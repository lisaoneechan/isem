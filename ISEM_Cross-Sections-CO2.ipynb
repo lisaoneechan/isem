{
 "cells": [
  {
   "cell_type": "code",
   "execution_count": 1,
   "metadata": {
    "collapsed": true
   },
   "outputs": [],
   "source": [
    "import scipy.io\n",
    "import numpy as np\n",
    "import decimal\n",
    "import pickle\n",
    "from matplotlib import pyplot as plt\n",
    "from matplotlib import rcParams"
   ]
  },
  {
   "cell_type": "code",
   "execution_count": 2,
   "metadata": {
    "collapsed": true
   },
   "outputs": [],
   "source": [
    "rcParams['figure.figsize'] = (20, 12)\n",
    "rcParams.update({'font.size': 16})"
   ]
  },
  {
   "cell_type": "markdown",
   "metadata": {},
   "source": [
    "Функция, которая считает Q(T) только для CO2"
   ]
  },
  {
   "cell_type": "code",
   "execution_count": 3,
   "metadata": {
    "collapsed": true
   },
   "outputs": [],
   "source": [
    "def do_Qt16(T):\n",
    "    mol = 2\n",
    "    Q_arr = np.zeros(10)\n",
    "    for iso in range(1, 11):\n",
    "        mol = str(mol)\n",
    "        iso = str(iso)\n",
    "        file = 'QTpy/'+mol+'_'+iso+'.QTpy'\n",
    "\n",
    "        QTdict = {}\n",
    "        with open(file, 'rb') as handle:\n",
    "            QTdict = pickle.loads(handle.read())\n",
    "        if(T==int(T)):\n",
    "            key=str(int(T))\n",
    "            Q = QTdict[key]\n",
    "        else:\n",
    "            key=str(int(T))\n",
    "            Q1 = float(QTdict[key])\n",
    "            key=str(int(T+1))\n",
    "            Q2 = float(QTdict[key])\n",
    "            QT = Q1+(Q2-Q1)*(T-int(T))\n",
    "            Q = QT\n",
    "        if(int(iso) < 10):\n",
    "            Q_arr[int(iso)] = Q\n",
    "        else:\n",
    "            Q_arr[0] = Q\n",
    "    return Q_arr"
   ]
  },
  {
   "cell_type": "markdown",
   "metadata": {},
   "source": [
    "Функция, которая считает контур Фойгта вокруг точки w0"
   ]
  },
  {
   "cell_type": "code",
   "execution_count": 4,
   "metadata": {
    "collapsed": true
   },
   "outputs": [],
   "source": [
    "def contur_Humlicek(w, w0, wL0, wD):\n",
    "    y = wL0/wD\n",
    "    x = np.zeros(len(w))\n",
    "    for i in range(len(w)):\n",
    "        x[i] = (w[i]-w0)/wD\n",
    "    t = np.zeros(len(w), dtype=np.complex_)\n",
    "    for i in range(len(w)):\n",
    "        t[i] = y - 1j*x[i]\n",
    "    u = np.zeros(len(x), dtype=np.complex_)\n",
    "    for i in range(len(x)):\n",
    "        u[i] = t[i]*t[i]\n",
    "    s = np.abs(x) + y    \n",
    "    p = (1e-150)*np.ones(len(w))\n",
    "    \n",
    "    ff1 = np.where(s < 15)\n",
    "    ff1_ = np.where(s >= 15) # region 1 (s>=15) (вот здесь, наверное, можно сделать оптимизацию)\n",
    "    if len(ff1_) != 0:\n",
    "        w4 = np.delete(t, ff1)*0.5641896/(0.5 + np.delete(u, ff1))\n",
    "        p[ff1_] = np.real(w4)/(np.sqrt(np.pi)*wD)\n",
    "    \n",
    "    ff2 = np.where((s >= 15)|(s<5.5))\n",
    "    ff2_ = np.where((s<15)&(s>=5.5)) # region 2 (5.5<=s<15)\n",
    "    if len(ff2_) != 0:\n",
    "        w4 = np.delete(t, ff2)*(1.410474+np.delete(u, ff2)*0.5641896)/(0.75+np.delete(u, ff2)*(3.0+np.delete(u, ff2)))\n",
    "        p[ff2_] = np.real(w4)/(np.sqrt(np.pi)*wD)\n",
    "    \n",
    "    ff3 = np.where((s>=5.5) | (y<0.195*np.abs(x)-0.176)) # region 3 (s<5.5, y>=0.195*abs(x)-0.176)\n",
    "    ff3_ = np.where((s<5.5) & (y>=0.195*np.abs(x)-0.176))\n",
    "    if len(ff3_) != 0:\n",
    "        w4 = (16.4955 + np.delete(t, ff3)*20.20933 + np.delete(u, ff3)*11.96482 + np.delete(t, ff3)*np.delete(u, ff3)*3.778987 + \n",
    "              np.delete(u, ff3)*np.delete(u, ff3)*0.5642236)/(16.4955 + np.delete(t, ff3)*38.82363 + \n",
    "                                                              np.delete(u, ff3)*39.27121 + \n",
    "                                                              np.delete(t, ff3)*np.delete(u, ff3)*21.69274 + \n",
    "                                                              np.delete(u, ff3)*np.delete(u, ff3)*6.699398 + \n",
    "                                                              np.delete(t, ff3)*np.delete(u, ff3)*np.delete(u, ff3))\n",
    "        p[ff3_] = np.real(w4)/(np.sqrt(np.pi)*wD)\n",
    "    \n",
    "    ff4 = np.where((s>=5.5) | (y>=0.195*np.abs(x)-0.176)) # region 4 (s<5.5, y<0.195*abs(x)-0.176)\n",
    "    ff4_ = np.where((s<5.5) & (y<0.195*np.abs(x)-0.176)) \n",
    "    if len(ff4_) != 0:\n",
    "        w4 = np.exp(np.delete(u, ff4)) - np.delete(t, ff4)*(36183.31 - \n",
    "                                                            np.delete(u, ff4)*(3321.9905 - \n",
    "                                                                               np.delete(u, ff4)*(1540.787 - \n",
    "                                                                                                  np.delete(u, ff4)*(219.0313 - \n",
    "                                                                                                                     np.delete(u, ff4)*(35.76683 - \n",
    "                                                                                                                                        np.delete(u, ff4)*(1.320522 - \n",
    "                                                                                                                                        np.delete(u, ff4)*0.56419))))))/(32066.6 - np.delete(u, ff4)*(24322.84 - \n",
    "                                                                                                                                        np.delete(u, ff4)*(9022.228 - np.delete(u, ff4)*(2186.181 - \n",
    "                                                                                                                                        np.delete(u, ff4)*(364.2191 - np.delete(u, ff4)*(61.57037 - \n",
    "                                                                                                                                        np.delete(u, ff4)*(1.841439 - np.delete(u, ff4))))))))\n",
    "        p[ff4_]= np.real(w4)/(np.sqrt(np.pi)*wD)\n",
    "    return p"
   ]
  },
  {
   "cell_type": "markdown",
   "metadata": {},
   "source": [
    "Функция, считывающая параметры молекулы"
   ]
  },
  {
   "cell_type": "code",
   "execution_count": 5,
   "metadata": {
    "collapsed": true
   },
   "outputs": [],
   "source": [
    "# считывание параметров молекулы\n",
    "def read_molpar16(iso):\n",
    "    if iso==1:\n",
    "        isoN=626\n",
    "        Sn=9.84204E-01\n",
    "        Q296=2.8609E+02\n",
    "        gj=1\n",
    "        molM=43.989830\n",
    "    elif iso==2:\n",
    "        isoN=636\n",
    "        Sn=1.10574E-02\n",
    "        Q296=5.7664E+02\n",
    "        gj=2\n",
    "        molM=44.993185  \n",
    "    elif iso==3:\n",
    "        isoN=628\n",
    "        Sn=3.94707E-03\n",
    "        Q296=6.0781E+02\n",
    "        gj=1\n",
    "        molM=45.994076  \n",
    "    elif iso==4:\n",
    "        isoN=627\n",
    "        Sn=7.33989E-04\n",
    "        Q296=3.5426E+03\n",
    "        gj=6\n",
    "        molM=44.994045  \n",
    "    elif iso==5:\n",
    "        isoN=638\n",
    "        Sn=4.43446E-05\n",
    "        Q296=1.2255E+03\n",
    "        gj=2\n",
    "        molM=46.997431  \n",
    "    elif iso==6:\n",
    "        isoN=637\n",
    "        Sn=8.24623E-06\n",
    "        Q296=7.1413E+03\n",
    "        gj=12 \n",
    "        molM=45.997400\n",
    "    elif iso==7:\n",
    "        isoN=828\n",
    "        Sn=3.95734E-06\n",
    "        Q296=3.2342E+02\n",
    "        gj=1\n",
    "        molM=47.998322 \n",
    "    elif iso==8:\n",
    "        isoN=827\n",
    "        Sn=1.47180E-06\n",
    "        Q296=3.7666E+03\n",
    "        gj=6\n",
    "        molM=46.998291  \n",
    "    elif iso==9:\n",
    "        isoN=727\n",
    "        Sn=1.36847E-07\n",
    "        Q296=1.0972E+04\n",
    "        gj=1\n",
    "        molM=45.998262 \n",
    "    elif iso==0:\n",
    "        isoN=838\n",
    "        Sn=4.44600E-08\n",
    "        Q296=6.5224E+02\n",
    "        gj=2\n",
    "        molM=49.001675\n",
    "    return isoN, Sn, Q296, gj, molM"
   ]
  },
  {
   "cell_type": "markdown",
   "metadata": {},
   "source": [
    "Функция, считывающая параметры линии поглощения"
   ]
  },
  {
   "cell_type": "code",
   "execution_count": 6,
   "metadata": {
    "collapsed": true
   },
   "outputs": [],
   "source": [
    "def readline(file):\n",
    "    data = scipy.io.loadmat(file) # файл с инфой про линии поглощения для нужного спектрального диапазона\n",
    "    lines = np.ravel(data['lines'])[0]\n",
    "    iso = np.ravel(lines[1]) # массив с номерами изотопов\n",
    "    v = np.ravel(lines[2]) # массив волновых чисел\n",
    "    S = np.ravel(lines[3]) # массив интенсивностей линий\n",
    "    A = np.ravel(lines[4]) # массив коэффициентов Эйнштейна\n",
    "    air = np.ravel(lines[5]) # массив HMHM(air)\n",
    "    self = np.ravel(lines[6]) # массив HWHM(self)\n",
    "    E = np.ravel(lines[7]) # массив энергий нижних состояний\n",
    "    nt = np.ravel(lines[8]) # массив коэффициентов зависимостей air от T\n",
    "    dlt = np.ravel(lines[9]) # массив сдвигов линий\n",
    "    # удаляет все NaN\n",
    "    ff = np.nonzero(np.isnan(iso))\n",
    "    iso = np.delete(iso, ff)\n",
    "    v = np.delete(v, ff)\n",
    "    S = np.delete(S, ff)\n",
    "    A = np.delete(A, ff)\n",
    "    air = np.delete(air, ff)\n",
    "    self = np.delete(self, ff)\n",
    "    E = np.delete(E, ff)\n",
    "    nt = np.delete(nt, ff)\n",
    "    dlt = np.delete(dlt, ff)\n",
    "    # ff -- это массив индексов, на которых содержится NaN в массиве iso\n",
    "    return iso, v, S, A, air, self, E, nt, dlt"
   ]
  },
  {
   "cell_type": "markdown",
   "metadata": {},
   "source": [
    "Подсчет сечений"
   ]
  },
  {
   "cell_type": "code",
   "execution_count": 7,
   "metadata": {
    "collapsed": true
   },
   "outputs": [],
   "source": [
    "iso, v, S, A, air, self, E, nt, dlt = readline('02_hit16.mat')"
   ]
  },
  {
   "cell_type": "code",
   "execution_count": 8,
   "metadata": {
    "collapsed": true
   },
   "outputs": [],
   "source": [
    "# тут будет функция, которая получает на вход T, p, волновые числа и номер изотопа\n",
    "# и возвращает массивы: волновые числа + сечения поглощения\n",
    "# но пока что\n",
    "T = 151.6 # К\n",
    "p = 4.83300000e-04 # мбар (взяты на высоте 85 км)\n",
    "w1 = 3200 # см^-1\n",
    "w2 = 3500 # см^-1\n",
    "wstep = 0.001 # см^-1\n",
    "isn = 100 # берем все изотопы"
   ]
  },
  {
   "cell_type": "code",
   "execution_count": 9,
   "metadata": {
    "collapsed": true
   },
   "outputs": [],
   "source": [
    "if p >= 1:\n",
    "    wLim0 = 30. # расширение диапазона\n",
    "elif (p < 1)&(p >= 0.1):\n",
    "    wLim0 = 25.\n",
    "elif (p < 0.1)&(p >= 0.01):\n",
    "    wLim0 = 20.\n",
    "elif (p < 0.01)&(p >= 1e-04):\n",
    "    wLim0 = 15.\n",
    "elif (p < 1e-04)&(p >= 1e-07):\n",
    "    wLim0 = 10.\n",
    "elif p < 1e-07:\n",
    "    wLim0 = 5."
   ]
  },
  {
   "cell_type": "code",
   "execution_count": 10,
   "metadata": {},
   "outputs": [],
   "source": [
    "if isn == 100: # номер изотопа (100 - все изотопы)\n",
    "# фильтрация, оставляем только нужные нам волновые числа\n",
    "    if p >= 0.1:\n",
    "        fv = np.where((v < w1 - wLim0) | (v > w2 + wLim0))\n",
    "    elif (p<0.1)&(p>=0.01):\n",
    "        #fv = np.where((v>=w1-wLim0) & (v<=w2+wLim0) & (S>=1e-30))\n",
    "        fv = np.where((v < w1 - wLim0) | (v > w2 + wLim0) | (S<1e-30))\n",
    "    elif (p<0.01)&(p>=1e-03):\n",
    "        #fv = np.where((v>=w1-wLim0) & (v<=w2+wLim0) & (S>=1e-29))\n",
    "        fv = np.where((v < w1 - wLim0) | (v > w2 + wLim0) | (S<1e-29))\n",
    "    elif (p<1e-03)&(p>=1e-04):\n",
    "        #fv = np.where((v>=w1-wLim0) & (v<=w2+wLim0) & (S>=1e-28))\n",
    "        fv = np.where((v < w1 - wLim0) | (v > w2 + wLim0) | (S<1e-28))\n",
    "    elif (p<1e-04)&(p>=1e-05): \n",
    "        #fv = np.where((v>=w1-wLim0) & (v<=w2+wLim0) & (S>=1e-27))\n",
    "        fv = np.where((v < w1 - wLim0) | (v > w2 + wLim0) | (S<1e-27))\n",
    "    elif (p<1e-05)&(p>=1e-06):\n",
    "        #fv = np.where((v>=w1-wLim0) & (v<=w2+wLim0) & (S>=1e-26))\n",
    "        fv = np.where((v < w1 - wLim0) | (v > w2 + wLim0) | (S<1e-26))\n",
    "    elif p<1e-06:\n",
    "        #fv = np.where((v>=w1-wLim0) & (v<=w2+wLim0) & (S>=1e-25))\n",
    "        fv = np.where((v < w1 - wLim0) | (v > w2 + wLim0) | (S<1e-25))\n",
    "    numiso = int(np.max(iso)) # кол-во изотопов\n",
    "    QQT = np.zeros(numiso + 1) # это Q(T) для каждого изотопа\n",
    "    Sn=np.zeros(numiso+1) # это распространенность изотопа в атмосфере\n",
    "    Q296=np.zeros(numiso+1) # это Q(296 К) для каждого изотопа\n",
    "    mu=np.zeros(numiso+1) # это молярная масса каждого изотопа [г/моль]\n",
    "    for i in range(numiso + 1): \n",
    "        #QQT(ff) = do_Qt16(T,mol,ff); \n",
    "        isoN1, Sn1, Q296_1, gj1, mu1 = read_molpar16(i);\n",
    "        Sn[i]=Sn1\n",
    "        Q296[i]=Q296_1\n",
    "        mu[i]=mu1\n",
    "    QQT = do_Qt16(T)\n",
    "else:\n",
    "    if p >= 0.1:\n",
    "        fv = np.where((v < w1 - wLim0) | (v > w2 + wLim0) | (iso != isn))\n",
    "    elif (p<0.1) & (p>=0.01):\n",
    "        fv = np.where((v<w1-wLim0) | (v>w2+wLim0) | (S<1e-30) | (iso != isn))\n",
    "    elif (p<0.01) & (p>=1e-03):\n",
    "        fv = np.where((v<w1-wLim0) | (v>w2+wLim0) | (S<1e-29) | (iso != isn))\n",
    "    elif (p<1e-03) & (p>=1e-04):\n",
    "        fv = np.where((v<w1-wLim0) | (v>w2+wLim0) | (S<1e-28) | (iso != isn))\n",
    "    elif (p<1e-04) & (p>=1e-05): \n",
    "        fv = np.where((v<w1-wLim0) | (v>w2+wLim0) | (S<1e-27) | (iso != isn))\n",
    "    elif (p<1e-05) & (p>=1e-06):\n",
    "        fv = np.where((v<w1-wLim0) | (v>w2+wLim0) | (S<1e-26) | (iso != isn))\n",
    "    elif p<1e-06:\n",
    "        fv = np.where((v<w1-wLim0) | (v>w2+wLim0) | (S<1e-25) | (iso != isn))\n",
    "    QQT0_arr = do_Qt16(T)\n",
    "    QQT0 = QQT0_arr[isn]\n",
    "    isoN0, Sn0, Q0, gj0, mu0 = read_molpar16(isn)"
   ]
  },
  {
   "cell_type": "code",
   "execution_count": 11,
   "metadata": {
    "collapsed": true
   },
   "outputs": [],
   "source": [
    "iso = np.delete(iso, fv)\n",
    "v = np.delete(v, fv)\n",
    "S = np.delete(S, fv)\n",
    "A = np.delete(A, fv)\n",
    "air = np.delete(air, fv)\n",
    "self = np.delete(self, fv)\n",
    "E = np.delete(E, fv)\n",
    "nt = np.delete(nt, fv)\n",
    "dlt = np.delete(dlt, fv)"
   ]
  },
  {
   "cell_type": "code",
   "execution_count": 12,
   "metadata": {
    "collapsed": true
   },
   "outputs": [],
   "source": [
    "nW = len(v) # кол-во волновых чисел"
   ]
  },
  {
   "cell_type": "code",
   "execution_count": 13,
   "metadata": {
    "collapsed": true
   },
   "outputs": [],
   "source": [
    "# сетка\n",
    "wGas = np.arange(w1-wLim0, w2+wLim0, wstep)\n",
    "nG = len(wGas)  # размер сетки\n",
    "# если массив волновых чисел в итоге пуст, то cGas = ...\n",
    "if v.size == 0:\n",
    "    cGas = (1.0e-150)*np.ones(nG)"
   ]
  },
  {
   "cell_type": "code",
   "execution_count": 15,
   "metadata": {
    "collapsed": true
   },
   "outputs": [],
   "source": [
    "# Сортировка массивов по возрастанию v\n",
    "ix = np.argsort(v)\n",
    "v = np.take(v, ix)\n",
    "iso = np.take(iso, ix)\n",
    "S = np.take(S, ix)\n",
    "A = np.take(A, ix)\n",
    "air = np.take(air, ix)\n",
    "self = np.take(self, ix)\n",
    "E = np.take(E, ix)\n",
    "nt = np.take(nt, ix)\n",
    "dlt = np.take(dlt, ix)\n",
    "# Убираем повторение v(j)\n",
    "if nW > 1:\n",
    "    # прогоняем один раз\n",
    "    dv = v[1:len(v)] - v[0:len(v) - 1] # массив\n",
    "    for i in range(len(dv)):\n",
    "        if dv[i] < 5e-07:\n",
    "            dv[i] = 5e-07\n",
    "    v[1:len(v)] = v[1:len(v)] + dv\n",
    "    # прогоняем второй раз\n",
    "    dv = v[1:len(v)] - v[0:len(v) - 1]\n",
    "    for i in range(len(dv)):\n",
    "        if dv[i] < 5e-08:\n",
    "            dv[i] = 5e-08\n",
    "    v[1:len(v)] = v[1:len(v)] + dv"
   ]
  },
  {
   "cell_type": "code",
   "execution_count": 16,
   "metadata": {
    "collapsed": true
   },
   "outputs": [],
   "source": [
    "# константы\n",
    "R = 8.31441 # универсальная газовая постоянная [Дж/(мол*К)]\n",
    "c = 299792458. # скорость света [м/с]\n",
    "c2 = 1.438775221 # вторая постоянная Планка [см*к] (c2=hc/kB)"
   ]
  },
  {
   "cell_type": "code",
   "execution_count": 17,
   "metadata": {
    "collapsed": true
   },
   "outputs": [],
   "source": [
    "wL = self*(p/1013.)*(296./T)**0.73 # Уширение за счет столкновений [см^-1]"
   ]
  },
  {
   "cell_type": "code",
   "execution_count": 18,
   "metadata": {},
   "outputs": [],
   "source": [
    "cGas = (1.0e-150)*np.ones(nG)\n",
    "S0 = np.zeros(nW)\n",
    "for g in range(nW):\n",
    "    if isn == 100:\n",
    "        dQ = Q296[int(iso[g])]/QQT[int(iso[g])] # отношение Q296/Q(T)\n",
    "        wD = np.sqrt(2*1000*R*T/mu[int(iso[g])])*v[g]/c # Доплеровское уширение\n",
    "        Rn=1.0\n",
    "    else:\n",
    "        dQ = Q0/QQT0 # отношение Q296/Q(T)\n",
    "        wD = np.sqrt(2*1000*R*T/mu0)*v[g]/c\n",
    "        Rn = 1/Sn0 # нормировка\n",
    "    # подсчёт S(T)\n",
    "    St = Rn*S[g]*dQ*np.exp(c2*E[g]*((1/296.)-(1/T)))*(1-np.exp(-c2*v[g]/T))/(1-np.exp(-c2*v[g]/296.))\n",
    "    if St > 1e-26:\n",
    "        wLim = wLim0\n",
    "    else:\n",
    "        wLim = 10.\n",
    "    wFind = np.where((wGas < v[g] - wLim) | (wGas > v[g] + wLim))\n",
    "    wFind_ = np.where((wGas >= v[g] - wLim) & (wGas <= v[g] + wLim))\n",
    "    wLine = np.delete(wGas, wFind)\n",
    "    \n",
    "    fV = (1.0e-150)*np.ones(nG)\n",
    "    fV0 = contur_Humlicek(wLine, v[g], wL[g], wD)\n",
    "    fV[wFind_] = St*fV0\n",
    "    cGas = cGas + fV"
   ]
  },
  {
   "cell_type": "code",
   "execution_count": 19,
   "metadata": {
    "collapsed": true
   },
   "outputs": [],
   "source": [
    "cGas = cGas[np.where((wGas>=w1)&(wGas<=w2))]\n",
    "wGas = wGas[np.where((wGas>=w1)&(wGas<=w2))]"
   ]
  },
  {
   "cell_type": "code",
   "execution_count": 20,
   "metadata": {},
   "outputs": [
    {
     "data": {
      "text/plain": [
       "(array([  1.14766764e-32,   1.14698866e-32,   1.14632572e-32, ...,\n",
       "          7.12021376e-30,   7.73354308e-30,   8.72511165e-30]),\n",
       " array([ 3200.        ,  3200.001     ,  3200.002     , ...,  3499.99700006,\n",
       "         3499.99800006,  3499.99900006]))"
      ]
     },
     "execution_count": 20,
     "metadata": {},
     "output_type": "execute_result"
    }
   ],
   "source": [
    "cGas, wGas"
   ]
  }
 ],
 "metadata": {
  "kernelspec": {
   "display_name": "Python 3",
   "language": "python",
   "name": "python3"
  },
  "language_info": {
   "codemirror_mode": {
    "name": "ipython",
    "version": 3
   },
   "file_extension": ".py",
   "mimetype": "text/x-python",
   "name": "python",
   "nbconvert_exporter": "python",
   "pygments_lexer": "ipython3",
   "version": "3.6.1"
  }
 },
 "nbformat": 4,
 "nbformat_minor": 2
}
